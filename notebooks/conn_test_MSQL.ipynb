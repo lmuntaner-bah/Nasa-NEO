{
 "cells": [
  {
   "cell_type": "code",
   "execution_count": null,
   "metadata": {},
   "outputs": [],
   "source": [
    "from sqlalchemy import create_engine\n",
    "from dotenv import load_dotenv\n",
    "import pandas as pd\n",
    "import os\n",
    "\n",
    "# Load environment variables from .env file\n",
    "load_dotenv()"
   ]
  },
  {
   "cell_type": "code",
   "execution_count": null,
   "metadata": {},
   "outputs": [],
   "source": [
    "# Get environment variables\n",
    "db_server = os.getenv('DB_SERVER')\n",
    "db_name = os.getenv('DB_NAME')\n",
    "\n",
    "# Create SQLAlchemy engine with Windows Authentication for localhost\n",
    "try:\n",
    "    connection_string = f\"mssql+pyodbc://{db_server}/{db_name}?trusted_connection=yes&driver=ODBC+Driver+17+for+SQL+Server\"\n",
    "    engine = create_engine(connection_string)\n",
    "except Exception as e:\n",
    "    print(f'This was an error connecting to the DB: {e}')"
   ]
  },
  {
   "cell_type": "code",
   "execution_count": null,
   "metadata": {},
   "outputs": [],
   "source": [
    "df = pd.read_csv('../data/interm/NASA_NEO.csv')"
   ]
  },
  {
   "cell_type": "code",
   "execution_count": null,
   "metadata": {},
   "outputs": [],
   "source": [
    "def upload_dataframe_to_sql(dataframe, table_name):\n",
    "    \"\"\"\n",
    "    Uploads a Pandas DataFrame to a SQL Server database table.\n",
    "    \n",
    "    Args:\n",
    "    dataframe (pd.DataFrame): The DataFrame to upload.\n",
    "    table_name (str): Name of the SQL table.\n",
    "    \n",
    "    Returns:\n",
    "    None\n",
    "    \"\"\"\n",
    "    \n",
    "    # Get environment variables\n",
    "    db_server = os.getenv('DB_SERVER')\n",
    "    db_name = os.getenv('DB_NAME')\n",
    "    \n",
    "    # Create SQLAlchemy engine with Windows Authentication for localhost\n",
    "    connection_string = f\"mssql+pyodbc://{db_server}/{db_name}?trusted_connection=yes&driver=ODBC+Driver+17+for+SQL+Server\"\n",
    "    engine = create_engine(connection_string)\n",
    "    \n",
    "    # Upload DataFrame to SQL Server\n",
    "    try:\n",
    "        with engine.connect() as connection:\n",
    "            # Use pandas to_sql function to upload DataFrame to SQL Server\n",
    "            dataframe.to_sql(table_name, connection, index=False, if_exists='append')\n",
    "        \n",
    "        print(f\"DataFrame successfully uploaded to {table_name} table.\")\n",
    "    except Exception as e:\n",
    "        print(f'Upload to DB table failed with error: {e}')"
   ]
  },
  {
   "cell_type": "code",
   "execution_count": null,
   "metadata": {},
   "outputs": [],
   "source": [
    "neo_df = pd.read_csv('../data/interm/NASA_NEO.csv')\n",
    "\n",
    "# Table name\n",
    "table_name = 'near_earth_objects'\n",
    "\n",
    "upload_dataframe_to_sql(neo_df, table_name)"
   ]
  }
 ],
 "metadata": {
  "kernelspec": {
   "display_name": "Neo_pipeline-env",
   "language": "python",
   "name": "python3"
  },
  "language_info": {
   "codemirror_mode": {
    "name": "ipython",
    "version": 3
   },
   "file_extension": ".py",
   "mimetype": "text/x-python",
   "name": "python",
   "nbconvert_exporter": "python",
   "pygments_lexer": "ipython3",
   "version": "3.11.9"
  }
 },
 "nbformat": 4,
 "nbformat_minor": 2
}
